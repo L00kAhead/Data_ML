{
 "cells": [
  {
   "cell_type": "code",
   "execution_count": 2,
   "metadata": {},
   "outputs": [
    {
     "name": "stdout",
     "output_type": "stream",
     "text": [
      "Collecting xgboost\n",
      "\u001b[?25l  Downloading https://files.pythonhosted.org/packages/bb/35/169eec194bf1f9ef52ed670f5032ef2abaf6ed285cfadcb4b6026b800fc9/xgboost-1.4.2-py3-none-manylinux2010_x86_64.whl (166.7MB)\n",
      "\u001b[K     |████████████████████████████████| 166.7MB 6.8MB/s eta 0:00:01\n",
      "\u001b[?25hRequirement already satisfied: numpy in /home/himanshu/snap/jupyter/common/lib/python3.7/site-packages (from xgboost) (1.20.0)\n",
      "Requirement already satisfied: scipy in /home/himanshu/snap/jupyter/common/lib/python3.7/site-packages (from xgboost) (1.6.0)\n",
      "Installing collected packages: xgboost\n",
      "Successfully installed xgboost-1.4.2\n",
      "Note: you may need to restart the kernel to use updated packages.\n"
     ]
    }
   ],
   "source": [
    "#pip install xgboost"
   ]
  },
  {
   "cell_type": "code",
   "execution_count": 53,
   "metadata": {},
   "outputs": [
    {
     "name": "stdout",
     "output_type": "stream",
     "text": [
      "Collecting lightgbm\n",
      "\u001b[?25l  Downloading https://files.pythonhosted.org/packages/18/b2/fff8370f48549ce223f929fe8cab4ee6bf285a41f86037d91312b48ed95b/lightgbm-3.2.1-py3-none-manylinux1_x86_64.whl (2.0MB)\n",
      "\u001b[K     |████████████████████████████████| 2.0MB 5.0MB/s eta 0:00:01\n",
      "\u001b[?25hRequirement already satisfied: scikit-learn!=0.22.0 in /home/himanshu/snap/jupyter/common/lib/python3.7/site-packages (from lightgbm) (0.24.1)\n",
      "Requirement already satisfied: numpy in /home/himanshu/snap/jupyter/common/lib/python3.7/site-packages (from lightgbm) (1.20.0)\n",
      "Requirement already satisfied: scipy in /home/himanshu/snap/jupyter/common/lib/python3.7/site-packages (from lightgbm) (1.6.0)\n",
      "Requirement already satisfied: wheel in /snap/jupyter/6/lib/python3.7/site-packages (from lightgbm) (0.33.4)\n",
      "Requirement already satisfied: joblib>=0.11 in /home/himanshu/snap/jupyter/common/lib/python3.7/site-packages (from scikit-learn!=0.22.0->lightgbm) (1.0.0)\n",
      "Requirement already satisfied: threadpoolctl>=2.0.0 in /home/himanshu/snap/jupyter/common/lib/python3.7/site-packages (from scikit-learn!=0.22.0->lightgbm) (2.1.0)\n",
      "Installing collected packages: lightgbm\n",
      "Successfully installed lightgbm-3.2.1\n",
      "Note: you may need to restart the kernel to use updated packages.\n"
     ]
    }
   ],
   "source": [
    "#pip install lightgbm"
   ]
  },
  {
   "cell_type": "code",
   "execution_count": 1,
   "metadata": {
    "id": "bcfUu6aC6PEL"
   },
   "outputs": [],
   "source": [
    "\n",
    "import warnings\n",
    "warnings.filterwarnings('ignore')\n",
    "\n",
    "import pandas as pd\n",
    "import numpy as np\n",
    "import seaborn as sns\n",
    "sns.set(color_codes=True)\n",
    "import matplotlib.pyplot as plt\n",
    "from math import sqrt\n",
    "from scipy.stats import norm, skew\n",
    "from scipy.special import boxcox1p\n",
    "from sklearn.linear_model import ElasticNet, Lasso\n",
    "from sklearn.ensemble import RandomForestRegressor,  GradientBoostingRegressor\n",
    "from sklearn.kernel_ridge import KernelRidge\n",
    "from sklearn.pipeline import make_pipeline\n",
    "from sklearn.preprocessing import RobustScaler\n",
    "from sklearn import preprocessing\n",
    "from sklearn.model_selection import train_test_split\n",
    "from sklearn.metrics import mean_squared_log_error, mean_squared_log_error\n",
    "from sklearn.tree import DecisionTreeRegressor\n",
    "from sklearn.model_selection import train_test_split\n",
    "#Recursive Feature Elimination\n",
    "from sklearn import datasets\n",
    "from sklearn.feature_selection import RFE\n",
    "from sklearn.preprocessing import LabelEncoder\n",
    "\n",
    "\n",
    "import xgboost as xgb"
   ]
  },
  {
   "cell_type": "code",
   "execution_count": 2,
   "metadata": {
    "id": "vPYYLLUs6V3o"
   },
   "outputs": [],
   "source": [
    "df_train = pd.read_csv(\"train.csv\", header = 0, delimiter = \",\")\n",
    "df_test = pd.read_csv(\"test.csv\", header = 0, delimiter = \",\")\n",
    "sub_df = pd.read_csv(\"sample_submission.csv\", header = 0, delimiter = \",\")"
   ]
  },
  {
   "cell_type": "code",
   "execution_count": 3,
   "metadata": {
    "id": "0d46bzux65z9"
   },
   "outputs": [],
   "source": [
    "\n",
    "df_test = sub_df.merge(df_test)"
   ]
  },
  {
   "cell_type": "code",
   "execution_count": 4,
   "metadata": {
    "colab": {
     "base_uri": "https://localhost:8080/"
    },
    "id": "UtyzOLI77G2L",
    "outputId": "f8150894-10d6-4a58-8ca1-cf3c88cc48cf"
   },
   "outputs": [
    {
     "name": "stdout",
     "output_type": "stream",
     "text": [
      "Train set shape: (1460, 81)\n",
      "Test set shape: (1459, 81)\n"
     ]
    }
   ],
   "source": [
    "print(\"Train set shape:\", df_train.shape)\n",
    "print(\"Test set shape:\", df_test.shape)"
   ]
  },
  {
   "cell_type": "markdown",
   "metadata": {
    "id": "FmG7-ldCF8N3"
   },
   "source": [
    "#Feature Engineering\n"
   ]
  },
  {
   "cell_type": "code",
   "execution_count": 5,
   "metadata": {
    "id": "w6esJcK67IzJ"
   },
   "outputs": [],
   "source": [
    "#Summing the areas to create a better feature \n",
    "\n",
    "df_train['TotalArea'] = df_train['TotalBsmtSF'] + df_train['1stFlrSF'] + df_train['2ndFlrSF']\n",
    "df_test['TotalArea'] = df_test['TotalBsmtSF'] + df_test['1stFlrSF'] + df_test['2ndFlrSF']"
   ]
  },
  {
   "cell_type": "code",
   "execution_count": 6,
   "metadata": {
    "id": "X63lmKPo7KxR"
   },
   "outputs": [],
   "source": [
    "#drop old columns\n",
    "\n",
    "for i in ['TotalBsmtSF', '1stFlrSF', \"2ndFlrSF\"]:\n",
    "    df_train = df_train.drop(i, axis = 1)\n",
    "    df_test = df_test.drop(i, axis = 1)"
   ]
  },
  {
   "cell_type": "code",
   "execution_count": 7,
   "metadata": {
    "colab": {
     "base_uri": "https://localhost:8080/"
    },
    "id": "o-_XHhYk7NHG",
    "outputId": "5014e481-6fcc-445d-c9b7-03cd98267ad4"
   },
   "outputs": [
    {
     "name": "stdout",
     "output_type": "stream",
     "text": [
      "Train set shape: (1460, 79)\n",
      "Test set shape: (1459, 79)\n"
     ]
    }
   ],
   "source": [
    "print(\"Train set shape:\", df_train.shape)\n",
    "print(\"Test set shape:\", df_test.shape)"
   ]
  },
  {
   "cell_type": "code",
   "execution_count": 8,
   "metadata": {
    "colab": {
     "base_uri": "https://localhost:8080/"
    },
    "id": "jHU_kpGgGLPT",
    "outputId": "3be06748-8da2-4276-a5ca-c7441d43f10d"
   },
   "outputs": [
    {
     "data": {
      "text/plain": [
       "SalePrice       1.000000\n",
       "OverallQual     0.625652\n",
       "TotalArea       0.611931\n",
       "GrLivArea       0.502149\n",
       "GarageCars      0.410124\n",
       "GarageArea      0.388667\n",
       "FullBath        0.314344\n",
       "TotRmsAbvGrd    0.284860\n",
       "YearBuilt       0.273422\n",
       "YearRemodAdd    0.257151\n",
       "GarageYrBlt     0.236548\n",
       "MasVnrArea      0.228000\n",
       "Fireplaces      0.218023\n",
       "BsmtFinSF1      0.149320\n",
       "LotFrontage     0.123763\n",
       "Name: SalePrice, dtype: float64"
      ]
     },
     "execution_count": 8,
     "metadata": {},
     "output_type": "execute_result"
    }
   ],
   "source": [
    "co = (df_train.corr()**2)['SalePrice'].sort_values(ascending=False)[:15]\n",
    "co"
   ]
  },
  {
   "cell_type": "markdown",
   "metadata": {
    "id": "JnUbx792GPYi"
   },
   "source": [
    "Looking at the features in the data set it is expected that OverallQual (Overall quality), Neighborhood, GrLivArea (Above grade (ground) living area square feet), and Total Area have a strong relationship with the SalePrice, So it is important to find any outliers if any are in dataset as these variables going to impact on our model."
   ]
  },
  {
   "cell_type": "markdown",
   "metadata": {
    "id": "jO0CgtZpGTnZ"
   },
   "source": [
    "#OverallQual \n"
   ]
  },
  {
   "cell_type": "code",
   "execution_count": 9,
   "metadata": {
    "colab": {
     "base_uri": "https://localhost:8080/",
     "height": 541
    },
    "id": "-Ot4rzCO7ahe",
    "outputId": "dc1df16e-1558-4dec-b809-8143414e594e"
   },
   "outputs": [
    {
     "data": {
      "text/plain": [
       "<AxesSubplot:xlabel='OverallQual', ylabel='SalePrice'>"
      ]
     },
     "execution_count": 9,
     "metadata": {},
     "output_type": "execute_result"
    },
    {
     "data": {
      "image/png": "[encoded data removed]",
      "text/plain": [
       "<Figure size 1080x576 with 1 Axes>"
      ]
     },
     "metadata": {
      "needs_background": "light"
     },
     "output_type": "display_data"
    }
   ],
   "source": [
    "plt.figure(figsize=(15,8))\n",
    "sns.scatterplot(x = df_train['OverallQual'], y = df_train['SalePrice'], hue = df_train['Neighborhood'], legend = False)"
   ]
  },
  {
   "cell_type": "markdown",
   "metadata": {
    "id": "2XnKp8ygGq-M"
   },
   "source": [
    "Looking at the plot the Overall seems fine. Also we can see which neighborhood are more expensive than others."
   ]
  },
  {
   "cell_type": "code",
   "execution_count": 10,
   "metadata": {
    "colab": {
     "base_uri": "https://localhost:8080/",
     "height": 474
    },
    "id": "OGfnQhcB7POw",
    "outputId": "0f2c3a56-7eaf-4c0d-e452-e307324b542b"
   },
   "outputs": [
    {
     "data": {
      "text/plain": [
       "<AxesSubplot:xlabel='GrLivArea', ylabel='SalePrice'>"
      ]
     },
     "execution_count": 10,
     "metadata": {},
     "output_type": "execute_result"
    },
    {
     "data": {
      "image/png": "[encoded data removed]",
      "text/plain": [
       "<Figure size 1080x576 with 1 Axes>"
      ]
     },
     "metadata": {
      "needs_background": "light"
     },
     "output_type": "display_data"
    }
   ],
   "source": [
    "plt.figure(figsize=(15,8))\n",
    "sns.scatterplot(x = df_train['GrLivArea'], y = df_train['SalePrice'], hue = df_train['Neighborhood'], legend = False)"
   ]
  },
  {
   "cell_type": "markdown",
   "metadata": {
    "id": "O_Lms8CYG7_U"
   },
   "source": [
    "Overall the plot seems fine and can fit linearly, except for the two points which belongs to either Timber or Gilbert Neighborhood.\n",
    "\n",
    "We can remove these outliers as it can impact our final results."
   ]
  },
  {
   "cell_type": "code",
   "execution_count": 11,
   "metadata": {
    "id": "eUFp6iKM7Tmd"
   },
   "outputs": [],
   "source": [
    "df_train = df_train.drop(df_train[(df_train['GrLivArea']>4000) & (df_train['SalePrice']<300000)].index)"
   ]
  },
  {
   "cell_type": "code",
   "execution_count": 12,
   "metadata": {
    "colab": {
     "base_uri": "https://localhost:8080/",
     "height": 474
    },
    "id": "wLIi71Yd7Yb8",
    "outputId": "195e879f-8fff-4258-ac2c-100e1c2ab1c4"
   },
   "outputs": [
    {
     "data": {
      "text/plain": [
       "<AxesSubplot:xlabel='TotalArea', ylabel='SalePrice'>"
      ]
     },
     "execution_count": 12,
     "metadata": {},
     "output_type": "execute_result"
    },
    {
     "data": {
      "image/png": "[encoded data removed]",
      "text/plain": [
       "<Figure size 1080x576 with 1 Axes>"
      ]
     },
     "metadata": {
      "needs_background": "light"
     },
     "output_type": "display_data"
    }
   ],
   "source": [
    "plt.figure(figsize=(15,8))\n",
    "sns.scatterplot(x = df_train['TotalArea'], y = df_train['SalePrice'], hue = df_train['Neighborhood'], legend = False)"
   ]
  },
  {
   "cell_type": "code",
   "execution_count": 13,
   "metadata": {
    "colab": {
     "base_uri": "https://localhost:8080/"
    },
    "id": "_mz3KfkF7crt",
    "outputId": "636335a4-c197-4922-9285-306ddecaa26a"
   },
   "outputs": [
    {
     "data": {
      "text/plain": [
       "1458"
      ]
     },
     "execution_count": 13,
     "metadata": {},
     "output_type": "execute_result"
    }
   ],
   "source": [
    "len_train = df_train.shape[0]\n",
    "len_train"
   ]
  },
  {
   "cell_type": "code",
   "execution_count": 14,
   "metadata": {
    "id": "34W5sF8h7eVo"
   },
   "outputs": [],
   "source": [
    "# Joining the test and train datasets\n",
    "\n",
    "df_concat = pd.concat([df_train, df_test], sort = False)\n"
   ]
  },
  {
   "cell_type": "code",
   "execution_count": 15,
   "metadata": {
    "colab": {
     "base_uri": "https://localhost:8080/"
    },
    "id": "6hFIBo8X7hLC",
    "outputId": "e4a385c7-4de0-4d68-dcfd-e041a959ed5c"
   },
   "outputs": [
    {
     "data": {
      "text/plain": [
       "(2917, 79)"
      ]
     },
     "execution_count": 15,
     "metadata": {},
     "output_type": "execute_result"
    }
   ],
   "source": [
    "\n",
    "df_concat.shape"
   ]
  },
  {
   "cell_type": "code",
   "execution_count": 16,
   "metadata": {
    "colab": {
     "base_uri": "https://localhost:8080/",
     "height": 317
    },
    "id": "Tir2rNLUHzl5",
    "outputId": "95c298e9-0245-487b-f8ab-fcfbcf452700"
   },
   "outputs": [
    {
     "data": {
      "text/html": [
       "<div>\n",
       "<style scoped>\n",
       "    .dataframe tbody tr th:only-of-type {\n",
       "        vertical-align: middle;\n",
       "    }\n",
       "\n",
       "    .dataframe tbody tr th {\n",
       "        vertical-align: top;\n",
       "    }\n",
       "\n",
       "    .dataframe thead th {\n",
       "        text-align: right;\n",
       "    }\n",
       "</style>\n",
       "<table border=\"1\" class=\"dataframe\">\n",
       "  <thead>\n",
       "    <tr style=\"text-align: right;\">\n",
       "      <th></th>\n",
       "      <th>Id</th>\n",
       "      <th>MSSubClass</th>\n",
       "      <th>LotFrontage</th>\n",
       "      <th>LotArea</th>\n",
       "      <th>OverallQual</th>\n",
       "      <th>OverallCond</th>\n",
       "      <th>YearBuilt</th>\n",
       "      <th>YearRemodAdd</th>\n",
       "      <th>MasVnrArea</th>\n",
       "      <th>BsmtFinSF1</th>\n",
       "      <th>...</th>\n",
       "      <th>OpenPorchSF</th>\n",
       "      <th>EnclosedPorch</th>\n",
       "      <th>3SsnPorch</th>\n",
       "      <th>ScreenPorch</th>\n",
       "      <th>PoolArea</th>\n",
       "      <th>MiscVal</th>\n",
       "      <th>MoSold</th>\n",
       "      <th>YrSold</th>\n",
       "      <th>SalePrice</th>\n",
       "      <th>TotalArea</th>\n",
       "    </tr>\n",
       "  </thead>\n",
       "  <tbody>\n",
       "    <tr>\n",
       "      <th>count</th>\n",
       "      <td>2917.000000</td>\n",
       "      <td>2917.000000</td>\n",
       "      <td>2431.000000</td>\n",
       "      <td>2917.000000</td>\n",
       "      <td>2917.000000</td>\n",
       "      <td>2917.000000</td>\n",
       "      <td>2917.000000</td>\n",
       "      <td>2917.000000</td>\n",
       "      <td>2894.000000</td>\n",
       "      <td>2916.000000</td>\n",
       "      <td>...</td>\n",
       "      <td>2917.000000</td>\n",
       "      <td>2917.000000</td>\n",
       "      <td>2917.000000</td>\n",
       "      <td>2917.000000</td>\n",
       "      <td>2917.000000</td>\n",
       "      <td>2917.000000</td>\n",
       "      <td>2917.000000</td>\n",
       "      <td>2917.000000</td>\n",
       "      <td>2917.000000</td>\n",
       "      <td>2916.000000</td>\n",
       "    </tr>\n",
       "    <tr>\n",
       "      <th>mean</th>\n",
       "      <td>1460.376071</td>\n",
       "      <td>57.135756</td>\n",
       "      <td>69.180584</td>\n",
       "      <td>10139.439150</td>\n",
       "      <td>6.086390</td>\n",
       "      <td>5.564964</td>\n",
       "      <td>1971.287967</td>\n",
       "      <td>1984.248200</td>\n",
       "      <td>101.733587</td>\n",
       "      <td>439.015432</td>\n",
       "      <td>...</td>\n",
       "      <td>47.280082</td>\n",
       "      <td>23.114158</td>\n",
       "      <td>2.604045</td>\n",
       "      <td>16.073363</td>\n",
       "      <td>2.088790</td>\n",
       "      <td>50.860816</td>\n",
       "      <td>6.213576</td>\n",
       "      <td>2007.792938</td>\n",
       "      <td>180058.118860</td>\n",
       "      <td>2543.086420</td>\n",
       "    </tr>\n",
       "    <tr>\n",
       "      <th>std</th>\n",
       "      <td>842.892456</td>\n",
       "      <td>42.532140</td>\n",
       "      <td>22.791719</td>\n",
       "      <td>7807.036512</td>\n",
       "      <td>1.406704</td>\n",
       "      <td>1.113414</td>\n",
       "      <td>30.286991</td>\n",
       "      <td>20.892257</td>\n",
       "      <td>178.510291</td>\n",
       "      <td>444.182329</td>\n",
       "      <td>...</td>\n",
       "      <td>67.118965</td>\n",
       "      <td>64.263424</td>\n",
       "      <td>25.196714</td>\n",
       "      <td>56.202054</td>\n",
       "      <td>34.561371</td>\n",
       "      <td>567.595198</td>\n",
       "      <td>2.713070</td>\n",
       "      <td>1.315328</td>\n",
       "      <td>57399.973168</td>\n",
       "      <td>780.610132</td>\n",
       "    </tr>\n",
       "    <tr>\n",
       "      <th>min</th>\n",
       "      <td>1.000000</td>\n",
       "      <td>20.000000</td>\n",
       "      <td>21.000000</td>\n",
       "      <td>1300.000000</td>\n",
       "      <td>1.000000</td>\n",
       "      <td>1.000000</td>\n",
       "      <td>1872.000000</td>\n",
       "      <td>1950.000000</td>\n",
       "      <td>0.000000</td>\n",
       "      <td>0.000000</td>\n",
       "      <td>...</td>\n",
       "      <td>0.000000</td>\n",
       "      <td>0.000000</td>\n",
       "      <td>0.000000</td>\n",
       "      <td>0.000000</td>\n",
       "      <td>0.000000</td>\n",
       "      <td>0.000000</td>\n",
       "      <td>1.000000</td>\n",
       "      <td>2006.000000</td>\n",
       "      <td>34900.000000</td>\n",
       "      <td>334.000000</td>\n",
       "    </tr>\n",
       "    <tr>\n",
       "      <th>25%</th>\n",
       "      <td>731.000000</td>\n",
       "      <td>20.000000</td>\n",
       "      <td>59.000000</td>\n",
       "      <td>7476.000000</td>\n",
       "      <td>5.000000</td>\n",
       "      <td>5.000000</td>\n",
       "      <td>1953.000000</td>\n",
       "      <td>1965.000000</td>\n",
       "      <td>0.000000</td>\n",
       "      <td>0.000000</td>\n",
       "      <td>...</td>\n",
       "      <td>0.000000</td>\n",
       "      <td>0.000000</td>\n",
       "      <td>0.000000</td>\n",
       "      <td>0.000000</td>\n",
       "      <td>0.000000</td>\n",
       "      <td>0.000000</td>\n",
       "      <td>4.000000</td>\n",
       "      <td>2007.000000</td>\n",
       "      <td>154743.916061</td>\n",
       "      <td>2000.000000</td>\n",
       "    </tr>\n",
       "    <tr>\n",
       "      <th>50%</th>\n",
       "      <td>1461.000000</td>\n",
       "      <td>50.000000</td>\n",
       "      <td>68.000000</td>\n",
       "      <td>9452.000000</td>\n",
       "      <td>6.000000</td>\n",
       "      <td>5.000000</td>\n",
       "      <td>1973.000000</td>\n",
       "      <td>1993.000000</td>\n",
       "      <td>0.000000</td>\n",
       "      <td>368.000000</td>\n",
       "      <td>...</td>\n",
       "      <td>26.000000</td>\n",
       "      <td>0.000000</td>\n",
       "      <td>0.000000</td>\n",
       "      <td>0.000000</td>\n",
       "      <td>0.000000</td>\n",
       "      <td>0.000000</td>\n",
       "      <td>6.000000</td>\n",
       "      <td>2008.000000</td>\n",
       "      <td>176734.841494</td>\n",
       "      <td>2448.000000</td>\n",
       "    </tr>\n",
       "    <tr>\n",
       "      <th>75%</th>\n",
       "      <td>2190.000000</td>\n",
       "      <td>70.000000</td>\n",
       "      <td>80.000000</td>\n",
       "      <td>11556.000000</td>\n",
       "      <td>7.000000</td>\n",
       "      <td>6.000000</td>\n",
       "      <td>2001.000000</td>\n",
       "      <td>2004.000000</td>\n",
       "      <td>164.000000</td>\n",
       "      <td>733.000000</td>\n",
       "      <td>...</td>\n",
       "      <td>70.000000</td>\n",
       "      <td>0.000000</td>\n",
       "      <td>0.000000</td>\n",
       "      <td>0.000000</td>\n",
       "      <td>0.000000</td>\n",
       "      <td>0.000000</td>\n",
       "      <td>8.000000</td>\n",
       "      <td>2009.000000</td>\n",
       "      <td>191905.870132</td>\n",
       "      <td>2990.250000</td>\n",
       "    </tr>\n",
       "    <tr>\n",
       "      <th>max</th>\n",
       "      <td>2919.000000</td>\n",
       "      <td>190.000000</td>\n",
       "      <td>313.000000</td>\n",
       "      <td>215245.000000</td>\n",
       "      <td>10.000000</td>\n",
       "      <td>9.000000</td>\n",
       "      <td>2010.000000</td>\n",
       "      <td>2010.000000</td>\n",
       "      <td>1600.000000</td>\n",
       "      <td>4010.000000</td>\n",
       "      <td>...</td>\n",
       "      <td>742.000000</td>\n",
       "      <td>1012.000000</td>\n",
       "      <td>508.000000</td>\n",
       "      <td>576.000000</td>\n",
       "      <td>800.000000</td>\n",
       "      <td>17000.000000</td>\n",
       "      <td>12.000000</td>\n",
       "      <td>2010.000000</td>\n",
       "      <td>755000.000000</td>\n",
       "      <td>10190.000000</td>\n",
       "    </tr>\n",
       "  </tbody>\n",
       "</table>\n",
       "<p>8 rows × 36 columns</p>\n",
       "</div>"
      ],
      "text/plain": [
       "                Id   MSSubClass  LotFrontage        LotArea  OverallQual  \\\n",
       "count  2917.000000  2917.000000  2431.000000    2917.000000  2917.000000   \n",
       "mean   1460.376071    57.135756    69.180584   10139.439150     6.086390   \n",
       "std     842.892456    42.532140    22.791719    7807.036512     1.406704   \n",
       "min       1.000000    20.000000    21.000000    1300.000000     1.000000   \n",
       "25%     731.000000    20.000000    59.000000    7476.000000     5.000000   \n",
       "50%    1461.000000    50.000000    68.000000    9452.000000     6.000000   \n",
       "75%    2190.000000    70.000000    80.000000   11556.000000     7.000000   \n",
       "max    2919.000000   190.000000   313.000000  215245.000000    10.000000   \n",
       "\n",
       "       OverallCond    YearBuilt  YearRemodAdd   MasVnrArea   BsmtFinSF1  ...  \\\n",
       "count  2917.000000  2917.000000   2917.000000  2894.000000  2916.000000  ...   \n",
       "mean      5.564964  1971.287967   1984.248200   101.733587   439.015432  ...   \n",
       "std       1.113414    30.286991     20.892257   178.510291   444.182329  ...   \n",
       "min       1.000000  1872.000000   1950.000000     0.000000     0.000000  ...   \n",
       "25%       5.000000  1953.000000   1965.000000     0.000000     0.000000  ...   \n",
       "50%       5.000000  1973.000000   1993.000000     0.000000   368.000000  ...   \n",
       "75%       6.000000  2001.000000   2004.000000   164.000000   733.000000  ...   \n",
       "max       9.000000  2010.000000   2010.000000  1600.000000  4010.000000  ...   \n",
       "\n",
       "       OpenPorchSF  EnclosedPorch    3SsnPorch  ScreenPorch     PoolArea  \\\n",
       "count  2917.000000    2917.000000  2917.000000  2917.000000  2917.000000   \n",
       "mean     47.280082      23.114158     2.604045    16.073363     2.088790   \n",
       "std      67.118965      64.263424    25.196714    56.202054    34.561371   \n",
       "min       0.000000       0.000000     0.000000     0.000000     0.000000   \n",
       "25%       0.000000       0.000000     0.000000     0.000000     0.000000   \n",
       "50%      26.000000       0.000000     0.000000     0.000000     0.000000   \n",
       "75%      70.000000       0.000000     0.000000     0.000000     0.000000   \n",
       "max     742.000000    1012.000000   508.000000   576.000000   800.000000   \n",
       "\n",
       "            MiscVal       MoSold       YrSold      SalePrice     TotalArea  \n",
       "count   2917.000000  2917.000000  2917.000000    2917.000000   2916.000000  \n",
       "mean      50.860816     6.213576  2007.792938  180058.118860   2543.086420  \n",
       "std      567.595198     2.713070     1.315328   57399.973168    780.610132  \n",
       "min        0.000000     1.000000  2006.000000   34900.000000    334.000000  \n",
       "25%        0.000000     4.000000  2007.000000  154743.916061   2000.000000  \n",
       "50%        0.000000     6.000000  2008.000000  176734.841494   2448.000000  \n",
       "75%        0.000000     8.000000  2009.000000  191905.870132   2990.250000  \n",
       "max    17000.000000    12.000000  2010.000000  755000.000000  10190.000000  \n",
       "\n",
       "[8 rows x 36 columns]"
      ]
     },
     "execution_count": 16,
     "metadata": {},
     "output_type": "execute_result"
    }
   ],
   "source": [
    "#Checking how the values are distributed \n",
    "\n",
    "df_concat.describe()\n"
   ]
  },
  {
   "cell_type": "code",
   "execution_count": 17,
   "metadata": {
    "colab": {
     "base_uri": "https://localhost:8080/",
     "height": 315
    },
    "id": "2B4qrCtN7i02",
    "outputId": "b9498066-d8c9-4593-9e3a-8894aa66b74f"
   },
   "outputs": [
    {
     "name": "stdout",
     "output_type": "stream",
     "text": [
      "Skew: 2.55\n"
     ]
    },
    {
     "data": {
      "image/png": "[encoded data removed]",
      "text/plain": [
       "<Figure size 432x288 with 1 Axes>"
      ]
     },
     "metadata": {
      "needs_background": "light"
     },
     "output_type": "display_data"
    }
   ],
   "source": [
    "sns.distplot(df_concat['SalePrice'], bins = 20)\n",
    "print(\"Skew:\", round(df_concat['SalePrice'].skew(),2))"
   ]
  },
  {
   "cell_type": "markdown",
   "metadata": {
    "id": "_Snvr6Y8IlfI"
   },
   "source": [
    "In this situation data is ***left SKEWED***, the mean and the median are both less than the mode. As a general rule, most of the time for data skewed to the left, the mean will be less than the median.\n",
    "\n",
    "\n",
    "To normalize it we will take the log of SalePrice."
   ]
  },
  {
   "cell_type": "code",
   "execution_count": 18,
   "metadata": {
    "id": "AqETwnu07kqz"
   },
   "outputs": [],
   "source": [
    "df_concat[\"SalePrice\"] = np.log1p(df_concat[\"SalePrice\"])"
   ]
  },
  {
   "cell_type": "code",
   "execution_count": 19,
   "metadata": {
    "colab": {
     "base_uri": "https://localhost:8080/",
     "height": 380
    },
    "id": "mDx8w7dX7mg-",
    "outputId": "d3179d77-13d8-4b47-d55d-5408656eedf0"
   },
   "outputs": [
    {
     "name": "stdout",
     "output_type": "stream",
     "text": [
      "Skew: -0.15\n",
      "Mean:  12.0580545118293\n",
      "Median:  12.082411475848863\n",
      "Mode:  0    11.849405\n",
      "dtype: float64\n"
     ]
    },
    {
     "data": {
      "image/png": "[encoded data removed]",
      "text/plain": [
       "<Figure size 432x288 with 1 Axes>"
      ]
     },
     "metadata": {
      "needs_background": "light"
     },
     "output_type": "display_data"
    }
   ],
   "source": [
    "#Better fit \n",
    "\n",
    "sns.distplot(df_concat['SalePrice'], bins = 20)\n",
    "print(\"Skew:\", round(df_concat['SalePrice'].skew(),2))\n",
    "print('Mean: ' ,np.mean(df_concat['SalePrice']))\n",
    "print('Median: ', np.median(df_concat['SalePrice']))\n",
    "print('Mode: ', df_concat['SalePrice'].mode())  "
   ]
  },
  {
   "cell_type": "code",
   "execution_count": 20,
   "metadata": {
    "colab": {
     "base_uri": "https://localhost:8080/",
     "height": 301
    },
    "id": "tHAbdKSlI4lu",
    "outputId": "27dbe419-5184-4c86-d60e-bf55797802d8"
   },
   "outputs": [
    {
     "data": {
      "image/png": "[encoded data removed]",
      "text/plain": [
       "<Figure size 432x288 with 1 Axes>"
      ]
     },
     "metadata": {
      "needs_background": "light"
     },
     "output_type": "display_data"
    }
   ],
   "source": [
    "import scipy.stats as stats\n",
    "import pylab\n",
    "\n",
    "stats.probplot(df_train['SalePrice'], dist=\"norm\", plot=pylab)\n",
    "pylab.show()\n"
   ]
  },
  {
   "cell_type": "code",
   "execution_count": 21,
   "metadata": {
    "colab": {
     "base_uri": "https://localhost:8080/",
     "height": 301
    },
    "id": "Wfd7Dz35I7U5",
    "outputId": "be944161-2c94-474e-e40c-eb137a67a5d6"
   },
   "outputs": [
    {
     "data": {
      "image/png": "[encoded data removed]",
      "text/plain": [
       "<Figure size 432x288 with 1 Axes>"
      ]
     },
     "metadata": {
      "needs_background": "light"
     },
     "output_type": "display_data"
    }
   ],
   "source": [
    "stats.probplot(df_test['SalePrice'], dist=\"norm\", plot=pylab)\n",
    "pylab.show()"
   ]
  },
  {
   "cell_type": "code",
   "execution_count": 22,
   "metadata": {
    "colab": {
     "base_uri": "https://localhost:8080/",
     "height": 301
    },
    "id": "QUdEjGPUI-CV",
    "outputId": "8ecb2436-c2aa-4d98-ed3e-e9b927bea15b"
   },
   "outputs": [
    {
     "data": {
      "image/png": "[encoded data removed]",
      "text/plain": [
       "<Figure size 432x288 with 1 Axes>"
      ]
     },
     "metadata": {
      "needs_background": "light"
     },
     "output_type": "display_data"
    }
   ],
   "source": [
    "stats.probplot(df_concat['SalePrice'], dist=\"norm\", plot=pylab)\n",
    "pylab.show()"
   ]
  },
  {
   "cell_type": "markdown",
   "metadata": {
    "id": "h29vAAlIJCNC"
   },
   "source": [
    "#Missing Value "
   ]
  },
  {
   "cell_type": "code",
   "execution_count": 23,
   "metadata": {
    "colab": {
     "base_uri": "https://localhost:8080/"
    },
    "id": "zxlEn1AXJEbP",
    "outputId": "027de3d8-2870-450d-d86a-915450ab280f"
   },
   "outputs": [
    {
     "name": "stdout",
     "output_type": "stream",
     "text": [
      "<class 'pandas.core.frame.DataFrame'>\n",
      "Int64Index: 2917 entries, 0 to 1458\n",
      "Data columns (total 79 columns):\n",
      " #   Column         Non-Null Count  Dtype  \n",
      "---  ------         --------------  -----  \n",
      " 0   Id             2917 non-null   int64  \n",
      " 1   MSSubClass     2917 non-null   int64  \n",
      " 2   MSZoning       2913 non-null   object \n",
      " 3   LotFrontage    2431 non-null   float64\n",
      " 4   LotArea        2917 non-null   int64  \n",
      " 5   Street         2917 non-null   object \n",
      " 6   Alley          198 non-null    object \n",
      " 7   LotShape       2917 non-null   object \n",
      " 8   LandContour    2917 non-null   object \n",
      " 9   Utilities      2915 non-null   object \n",
      " 10  LotConfig      2917 non-null   object \n",
      " 11  LandSlope      2917 non-null   object \n",
      " 12  Neighborhood   2917 non-null   object \n",
      " 13  Condition1     2917 non-null   object \n",
      " 14  Condition2     2917 non-null   object \n",
      " 15  BldgType       2917 non-null   object \n",
      " 16  HouseStyle     2917 non-null   object \n",
      " 17  OverallQual    2917 non-null   int64  \n",
      " 18  OverallCond    2917 non-null   int64  \n",
      " 19  YearBuilt      2917 non-null   int64  \n",
      " 20  YearRemodAdd   2917 non-null   int64  \n",
      " 21  RoofStyle      2917 non-null   object \n",
      " 22  RoofMatl       2917 non-null   object \n",
      " 23  Exterior1st    2916 non-null   object \n",
      " 24  Exterior2nd    2916 non-null   object \n",
      " 25  MasVnrType     2893 non-null   object \n",
      " 26  MasVnrArea     2894 non-null   float64\n",
      " 27  ExterQual      2917 non-null   object \n",
      " 28  ExterCond      2917 non-null   object \n",
      " 29  Foundation     2917 non-null   object \n",
      " 30  BsmtQual       2836 non-null   object \n",
      " 31  BsmtCond       2835 non-null   object \n",
      " 32  BsmtExposure   2835 non-null   object \n",
      " 33  BsmtFinType1   2838 non-null   object \n",
      " 34  BsmtFinSF1     2916 non-null   float64\n",
      " 35  BsmtFinType2   2837 non-null   object \n",
      " 36  BsmtFinSF2     2916 non-null   float64\n",
      " 37  BsmtUnfSF      2916 non-null   float64\n",
      " 38  Heating        2917 non-null   object \n",
      " 39  HeatingQC      2917 non-null   object \n",
      " 40  CentralAir     2917 non-null   object \n",
      " 41  Electrical     2916 non-null   object \n",
      " 42  LowQualFinSF   2917 non-null   int64  \n",
      " 43  GrLivArea      2917 non-null   int64  \n",
      " 44  BsmtFullBath   2915 non-null   float64\n",
      " 45  BsmtHalfBath   2915 non-null   float64\n",
      " 46  FullBath       2917 non-null   int64  \n",
      " 47  HalfBath       2917 non-null   int64  \n",
      " 48  BedroomAbvGr   2917 non-null   int64  \n",
      " 49  KitchenAbvGr   2917 non-null   int64  \n",
      " 50  KitchenQual    2916 non-null   object \n",
      " 51  TotRmsAbvGrd   2917 non-null   int64  \n",
      " 52  Functional     2915 non-null   object \n",
      " 53  Fireplaces     2917 non-null   int64  \n",
      " 54  FireplaceQu    1497 non-null   object \n",
      " 55  GarageType     2760 non-null   object \n",
      " 56  GarageYrBlt    2758 non-null   float64\n",
      " 57  GarageFinish   2758 non-null   object \n",
      " 58  GarageCars     2916 non-null   float64\n",
      " 59  GarageArea     2916 non-null   float64\n",
      " 60  GarageQual     2758 non-null   object \n",
      " 61  GarageCond     2758 non-null   object \n",
      " 62  PavedDrive     2917 non-null   object \n",
      " 63  WoodDeckSF     2917 non-null   int64  \n",
      " 64  OpenPorchSF    2917 non-null   int64  \n",
      " 65  EnclosedPorch  2917 non-null   int64  \n",
      " 66  3SsnPorch      2917 non-null   int64  \n",
      " 67  ScreenPorch    2917 non-null   int64  \n",
      " 68  PoolArea       2917 non-null   int64  \n",
      " 69  PoolQC         9 non-null      object \n",
      " 70  Fence          571 non-null    object \n",
      " 71  MiscFeature    105 non-null    object \n",
      " 72  MiscVal        2917 non-null   int64  \n",
      " 73  MoSold         2917 non-null   int64  \n",
      " 74  YrSold         2917 non-null   int64  \n",
      " 75  SaleType       2916 non-null   object \n",
      " 76  SaleCondition  2917 non-null   object \n",
      " 77  SalePrice      2917 non-null   float64\n",
      " 78  TotalArea      2916 non-null   float64\n",
      "dtypes: float64(12), int64(24), object(43)\n",
      "memory usage: 1.8+ MB\n"
     ]
    }
   ],
   "source": [
    "df_concat.info()"
   ]
  },
  {
   "cell_type": "markdown",
   "metadata": {
    "id": "derlURVPJJ2F"
   },
   "source": [
    "We can see some of columns have few to a significant amount of missing data. \n",
    "Therefore, it is necessary to explore and figure out what to do fill data or drop columns/rows.\n",
    "\n",
    "\n",
    "\n"
   ]
  },
  {
   "cell_type": "markdown",
   "metadata": {
    "id": "sVayFNqDJMkC"
   },
   "source": [
    "#**Seperating the categorical and non-categorical data.**"
   ]
  },
  {
   "cell_type": "code",
   "execution_count": 24,
   "metadata": {
    "colab": {
     "base_uri": "https://localhost:8080/"
    },
    "id": "8RConam97oWo",
    "outputId": "ba88d48a-40f2-4cf7-9270-141eee20cb90"
   },
   "outputs": [
    {
     "name": "stdout",
     "output_type": "stream",
     "text": [
      "Continuous: ['Id', 'MSSubClass', 'LotFrontage', 'LotArea', 'OverallQual', 'OverallCond', 'YearBuilt', 'YearRemodAdd', 'MasVnrArea', 'BsmtFinSF1', 'BsmtFinSF2', 'BsmtUnfSF', 'LowQualFinSF', 'GrLivArea', 'BsmtFullBath', 'BsmtHalfBath', 'FullBath', 'HalfBath', 'BedroomAbvGr', 'KitchenAbvGr', 'TotRmsAbvGrd', 'Fireplaces', 'GarageYrBlt', 'GarageCars', 'GarageArea', 'WoodDeckSF', 'OpenPorchSF', 'EnclosedPorch', '3SsnPorch', 'ScreenPorch', 'PoolArea', 'MiscVal', 'MoSold', 'YrSold', 'SalePrice', 'TotalArea']\n",
      "-\n",
      "Categorical: ['MSZoning', 'Street', 'Alley', 'LotShape', 'LandContour', 'Utilities', 'LotConfig', 'LandSlope', 'Neighborhood', 'Condition1', 'Condition2', 'BldgType', 'HouseStyle', 'RoofStyle', 'RoofMatl', 'Exterior1st', 'Exterior2nd', 'MasVnrType', 'ExterQual', 'ExterCond', 'Foundation', 'BsmtQual', 'BsmtCond', 'BsmtExposure', 'BsmtFinType1', 'BsmtFinType2', 'Heating', 'HeatingQC', 'CentralAir', 'Electrical', 'KitchenQual', 'Functional', 'FireplaceQu', 'GarageType', 'GarageFinish', 'GarageQual', 'GarageCond', 'PavedDrive', 'PoolQC', 'Fence', 'MiscFeature', 'SaleType', 'SaleCondition']\n"
     ]
    }
   ],
   "source": [
    "continuous = []\n",
    "categorical = []\n",
    "\n",
    "for i in df_concat.columns:\n",
    "    if df_concat[i].dtype == \"object\":\n",
    "        categorical.append(i)\n",
    "    else: continuous.append(i)\n",
    "\n",
    "print(\"Continuous:\", continuous)\n",
    "print(\"-\")\n",
    "print(\"Categorical:\", categorical)"
   ]
  },
  {
   "cell_type": "code",
   "execution_count": 25,
   "metadata": {
    "colab": {
     "base_uri": "https://localhost:8080/",
     "height": 762
    },
    "id": "rw6afWuv7q7P",
    "outputId": "1840a01a-7454-49bf-cb27-ea19829dcab0"
   },
   "outputs": [
    {
     "data": {
      "text/html": [
       "<div>\n",
       "<style scoped>\n",
       "    .dataframe tbody tr th:only-of-type {\n",
       "        vertical-align: middle;\n",
       "    }\n",
       "\n",
       "    .dataframe tbody tr th {\n",
       "        vertical-align: top;\n",
       "    }\n",
       "\n",
       "    .dataframe thead th {\n",
       "        text-align: right;\n",
       "    }\n",
       "</style>\n",
       "<table border=\"1\" class=\"dataframe\">\n",
       "  <thead>\n",
       "    <tr style=\"text-align: right;\">\n",
       "      <th></th>\n",
       "      <th>Missing values</th>\n",
       "    </tr>\n",
       "  </thead>\n",
       "  <tbody>\n",
       "    <tr>\n",
       "      <th>PoolQC</th>\n",
       "      <td>2908</td>\n",
       "    </tr>\n",
       "    <tr>\n",
       "      <th>MiscFeature</th>\n",
       "      <td>2812</td>\n",
       "    </tr>\n",
       "    <tr>\n",
       "      <th>Alley</th>\n",
       "      <td>2719</td>\n",
       "    </tr>\n",
       "    <tr>\n",
       "      <th>Fence</th>\n",
       "      <td>2346</td>\n",
       "    </tr>\n",
       "    <tr>\n",
       "      <th>FireplaceQu</th>\n",
       "      <td>1420</td>\n",
       "    </tr>\n",
       "    <tr>\n",
       "      <th>GarageQual</th>\n",
       "      <td>159</td>\n",
       "    </tr>\n",
       "    <tr>\n",
       "      <th>GarageFinish</th>\n",
       "      <td>159</td>\n",
       "    </tr>\n",
       "    <tr>\n",
       "      <th>GarageCond</th>\n",
       "      <td>159</td>\n",
       "    </tr>\n",
       "    <tr>\n",
       "      <th>GarageType</th>\n",
       "      <td>157</td>\n",
       "    </tr>\n",
       "    <tr>\n",
       "      <th>BsmtCond</th>\n",
       "      <td>82</td>\n",
       "    </tr>\n",
       "    <tr>\n",
       "      <th>BsmtExposure</th>\n",
       "      <td>82</td>\n",
       "    </tr>\n",
       "    <tr>\n",
       "      <th>BsmtQual</th>\n",
       "      <td>81</td>\n",
       "    </tr>\n",
       "    <tr>\n",
       "      <th>BsmtFinType2</th>\n",
       "      <td>80</td>\n",
       "    </tr>\n",
       "    <tr>\n",
       "      <th>BsmtFinType1</th>\n",
       "      <td>79</td>\n",
       "    </tr>\n",
       "    <tr>\n",
       "      <th>MasVnrType</th>\n",
       "      <td>24</td>\n",
       "    </tr>\n",
       "    <tr>\n",
       "      <th>MSZoning</th>\n",
       "      <td>4</td>\n",
       "    </tr>\n",
       "    <tr>\n",
       "      <th>Functional</th>\n",
       "      <td>2</td>\n",
       "    </tr>\n",
       "    <tr>\n",
       "      <th>Utilities</th>\n",
       "      <td>2</td>\n",
       "    </tr>\n",
       "    <tr>\n",
       "      <th>Electrical</th>\n",
       "      <td>1</td>\n",
       "    </tr>\n",
       "    <tr>\n",
       "      <th>KitchenQual</th>\n",
       "      <td>1</td>\n",
       "    </tr>\n",
       "    <tr>\n",
       "      <th>Exterior2nd</th>\n",
       "      <td>1</td>\n",
       "    </tr>\n",
       "    <tr>\n",
       "      <th>Exterior1st</th>\n",
       "      <td>1</td>\n",
       "    </tr>\n",
       "    <tr>\n",
       "      <th>SaleType</th>\n",
       "      <td>1</td>\n",
       "    </tr>\n",
       "  </tbody>\n",
       "</table>\n",
       "</div>"
      ],
      "text/plain": [
       "              Missing values\n",
       "PoolQC                  2908\n",
       "MiscFeature             2812\n",
       "Alley                   2719\n",
       "Fence                   2346\n",
       "FireplaceQu             1420\n",
       "GarageQual               159\n",
       "GarageFinish             159\n",
       "GarageCond               159\n",
       "GarageType               157\n",
       "BsmtCond                  82\n",
       "BsmtExposure              82\n",
       "BsmtQual                  81\n",
       "BsmtFinType2              80\n",
       "BsmtFinType1              79\n",
       "MasVnrType                24\n",
       "MSZoning                   4\n",
       "Functional                 2\n",
       "Utilities                  2\n",
       "Electrical                 1\n",
       "KitchenQual                1\n",
       "Exterior2nd                1\n",
       "Exterior1st                1\n",
       "SaleType                   1"
      ]
     },
     "execution_count": 25,
     "metadata": {},
     "output_type": "execute_result"
    }
   ],
   "source": [
    "isna_sum = df_concat[categorical].isna().sum()\n",
    "NaN_columns = [i for i in isna_sum.index if df_concat[i].isna().sum() !=0]\n",
    "df_NaN_values = df_concat[NaN_columns]\n",
    "missing_categorical = pd.DataFrame(df_NaN_values.isna().sum(), columns = [\"Missing values\"])\n",
    "missing_categorical.sort_values([\"Missing values\"], axis = 0, ascending = False)"
   ]
  },
  {
   "cell_type": "code",
   "execution_count": 26,
   "metadata": {
    "id": "r4sp21Sq7tDQ"
   },
   "outputs": [],
   "source": [
    "df_concat[\"Functional\"].fillna(\"Typ\", inplace = True)"
   ]
  },
  {
   "cell_type": "code",
   "execution_count": 27,
   "metadata": {
    "id": "eT-hHdUs7vr-"
   },
   "outputs": [],
   "source": [
    "for i in [\"PoolQC\", \"MiscFeature\", \"Alley\", \"Fence\", \"FireplaceQu\", \n",
    "            'GarageType', 'GarageFinish', 'GarageQual', 'GarageCond',\n",
    "            'BsmtQual', 'BsmtCond', 'BsmtExposure', 'BsmtFinType1', \n",
    "            'BsmtFinType2', \"MasVnrType\", \"MSSubClass\", \"FireplaceQu\"]:\n",
    "    \n",
    "    df_concat[i].fillna(\"NA\", inplace = True)"
   ]
  },
  {
   "cell_type": "markdown",
   "metadata": {
    "id": "Mwreh6jYJZar"
   },
   "source": [
    "<h4> Categorical </h4>"
   ]
  },
  {
   "cell_type": "code",
   "execution_count": 28,
   "metadata": {
    "colab": {
     "base_uri": "https://localhost:8080/"
    },
    "id": "o1V3JY6f7yik",
    "outputId": "d7910c5f-9529-4bbb-abb7-72dd1d017175"
   },
   "outputs": [
    {
     "data": {
      "text/plain": [
       "MSZoning       4\n",
       "Utilities      2\n",
       "Exterior1st    1\n",
       "Exterior2nd    1\n",
       "Electrical     1\n",
       "KitchenQual    1\n",
       "SaleType       1\n",
       "dtype: int64"
      ]
     },
     "execution_count": 28,
     "metadata": {},
     "output_type": "execute_result"
    }
   ],
   "source": [
    "isna_sum = df_concat[categorical].isna().sum()\n",
    "NaN_columns = [i for i in isna_sum.index if df_concat[i].isna().sum() !=0]\n",
    "df_NaN_values = df_concat[NaN_columns]\n",
    "df_NaN_values.isna().sum()"
   ]
  },
  {
   "cell_type": "code",
   "execution_count": 29,
   "metadata": {
    "id": "BR8aLc1d70SQ"
   },
   "outputs": [],
   "source": [
    "for i in [\"MSZoning\", \"Utilities\", \"Exterior1st\", \"Exterior2nd\", \"Electrical\", \"KitchenQual\", \"SaleType\"]:\n",
    "    df_concat[i].fillna(df_concat[i].mode()[0], inplace = True)"
   ]
  },
  {
   "cell_type": "markdown",
   "metadata": {
    "id": "358Y3NoVJh22"
   },
   "source": [
    "<h4> Numerical </h4>"
   ]
  },
  {
   "cell_type": "code",
   "execution_count": 30,
   "metadata": {
    "colab": {
     "base_uri": "https://localhost:8080/",
     "height": 390
    },
    "id": "Twal9Xzz72cK",
    "outputId": "566869ae-0e05-478f-bc07-e543a735ac48"
   },
   "outputs": [
    {
     "data": {
      "text/html": [
       "<div>\n",
       "<style scoped>\n",
       "    .dataframe tbody tr th:only-of-type {\n",
       "        vertical-align: middle;\n",
       "    }\n",
       "\n",
       "    .dataframe tbody tr th {\n",
       "        vertical-align: top;\n",
       "    }\n",
       "\n",
       "    .dataframe thead th {\n",
       "        text-align: right;\n",
       "    }\n",
       "</style>\n",
       "<table border=\"1\" class=\"dataframe\">\n",
       "  <thead>\n",
       "    <tr style=\"text-align: right;\">\n",
       "      <th></th>\n",
       "      <th>Missing values</th>\n",
       "    </tr>\n",
       "  </thead>\n",
       "  <tbody>\n",
       "    <tr>\n",
       "      <th>LotFrontage</th>\n",
       "      <td>486</td>\n",
       "    </tr>\n",
       "    <tr>\n",
       "      <th>GarageYrBlt</th>\n",
       "      <td>159</td>\n",
       "    </tr>\n",
       "    <tr>\n",
       "      <th>MasVnrArea</th>\n",
       "      <td>23</td>\n",
       "    </tr>\n",
       "    <tr>\n",
       "      <th>BsmtFullBath</th>\n",
       "      <td>2</td>\n",
       "    </tr>\n",
       "    <tr>\n",
       "      <th>BsmtHalfBath</th>\n",
       "      <td>2</td>\n",
       "    </tr>\n",
       "    <tr>\n",
       "      <th>BsmtFinSF1</th>\n",
       "      <td>1</td>\n",
       "    </tr>\n",
       "    <tr>\n",
       "      <th>BsmtFinSF2</th>\n",
       "      <td>1</td>\n",
       "    </tr>\n",
       "    <tr>\n",
       "      <th>BsmtUnfSF</th>\n",
       "      <td>1</td>\n",
       "    </tr>\n",
       "    <tr>\n",
       "      <th>GarageCars</th>\n",
       "      <td>1</td>\n",
       "    </tr>\n",
       "    <tr>\n",
       "      <th>GarageArea</th>\n",
       "      <td>1</td>\n",
       "    </tr>\n",
       "    <tr>\n",
       "      <th>TotalArea</th>\n",
       "      <td>1</td>\n",
       "    </tr>\n",
       "  </tbody>\n",
       "</table>\n",
       "</div>"
      ],
      "text/plain": [
       "              Missing values\n",
       "LotFrontage              486\n",
       "GarageYrBlt              159\n",
       "MasVnrArea                23\n",
       "BsmtFullBath               2\n",
       "BsmtHalfBath               2\n",
       "BsmtFinSF1                 1\n",
       "BsmtFinSF2                 1\n",
       "BsmtUnfSF                  1\n",
       "GarageCars                 1\n",
       "GarageArea                 1\n",
       "TotalArea                  1"
      ]
     },
     "execution_count": 30,
     "metadata": {},
     "output_type": "execute_result"
    }
   ],
   "source": [
    "\n",
    "isna_sum = df_concat[continuous].isna().sum()\n",
    "NaN_columns = [i for i in isna_sum.index if df_concat[i].isna().sum() !=0]\n",
    "df_NaN_values = df_concat[NaN_columns]\n",
    "missing_continuous = pd.DataFrame(df_NaN_values.isna().sum(), columns = [\"Missing values\"])\n",
    "missing_continuous.sort_values([\"Missing values\"], axis = 0, ascending = False)"
   ]
  },
  {
   "cell_type": "code",
   "execution_count": 31,
   "metadata": {
    "id": "zpnUzmO174jv"
   },
   "outputs": [],
   "source": [
    "df_concat[\"LotFrontage\"] = df_concat.groupby(\"Neighborhood\")[\"LotFrontage\"].transform(\n",
    "    lambda x: x.fillna(x.median()))"
   ]
  },
  {
   "cell_type": "code",
   "execution_count": 32,
   "metadata": {
    "id": "QzZLBNVw77Rd"
   },
   "outputs": [],
   "source": [
    "for i in ('GarageYrBlt', 'GarageArea', 'GarageCars', 'BsmtFinSF1', 'BsmtFinSF2', 'BsmtUnfSF', 'BsmtFullBath', \n",
    "            'BsmtHalfBath', \"MasVnrArea\", \"TotalArea\"):\n",
    "    \n",
    "    df_concat[i].fillna(0, inplace = True)"
   ]
  },
  {
   "cell_type": "code",
   "execution_count": 33,
   "metadata": {
    "colab": {
     "base_uri": "https://localhost:8080/",
     "height": 36
    },
    "id": "UcC3ksMQ79MZ",
    "outputId": "c383b89d-ca7c-4cf7-ca36-113de0dd147b"
   },
   "outputs": [
    {
     "data": {
      "text/plain": [
       "'Filled'"
      ]
     },
     "execution_count": 33,
     "metadata": {},
     "output_type": "execute_result"
    }
   ],
   "source": [
    "#Check if all the values are filled or not \n",
    "def check():\n",
    "  count = 0 \n",
    "  for i in df_concat.columns:\n",
    "    count += df_concat[i].isna().sum()\n",
    "  if count == 0: \n",
    "    return \"Filled\"\n",
    "  return \"Nan Exists\"\n",
    "check()"
   ]
  },
  {
   "cell_type": "markdown",
   "metadata": {
    "id": "GEP_-OrCJr6T"
   },
   "source": [
    "Since there our plot showed in the begining that our data is left skewed. So, it needs to be modified and normalized \n",
    "\n",
    "\n",
    "\n",
    "If the skewness is between -0.5 and 0.5, the data are fairly symmetrical. \n",
    "If the skewness is between -1 and – 0.5 or between 0.5 and 1, the data are moderately skewed. \n",
    "If the skewness is less than -1 or greater than 1, the data are highly skewed."
   ]
  },
  {
   "cell_type": "code",
   "execution_count": 34,
   "metadata": {
    "id": "gVgJAwCS7_DF"
   },
   "outputs": [],
   "source": [
    "\n",
    "big_skew = [feature for feature in continuous if abs(df_concat[feature].skew()) > 0.75]"
   ]
  },
  {
   "cell_type": "code",
   "execution_count": 35,
   "metadata": {
    "colab": {
     "base_uri": "https://localhost:8080/"
    },
    "id": "xs9wqL688A87",
    "outputId": "44634abc-2e38-45a4-de7e-0235e42cf930"
   },
   "outputs": [
    {
     "name": "stdout",
     "output_type": "stream",
     "text": [
      "High skewed data: ['MSSubClass', 'LotFrontage', 'LotArea', 'MasVnrArea', 'BsmtFinSF1', 'BsmtFinSF2', 'BsmtUnfSF', 'LowQualFinSF', 'GrLivArea', 'BsmtHalfBath', 'KitchenAbvGr', 'GarageYrBlt', 'WoodDeckSF', 'OpenPorchSF', 'EnclosedPorch', '3SsnPorch', 'ScreenPorch', 'PoolArea', 'MiscVal', 'TotalArea']\n"
     ]
    },
    {
     "data": {
      "text/plain": [
       "20"
      ]
     },
     "execution_count": 35,
     "metadata": {},
     "output_type": "execute_result"
    }
   ],
   "source": [
    "print(\"High skewed data:\", big_skew)\n",
    "len(big_skew)"
   ]
  },
  {
   "cell_type": "code",
   "execution_count": 36,
   "metadata": {
    "colab": {
     "base_uri": "https://localhost:8080/"
    },
    "id": "0DbBB21_KAKi",
    "outputId": "d61d2a67-75b3-4785-dc82-bb1af614b9cb"
   },
   "outputs": [
    {
     "data": {
      "text/plain": [
       "0.4"
      ]
     },
     "execution_count": 36,
     "metadata": {},
     "output_type": "execute_result"
    }
   ],
   "source": [
    "len(continuous)\n",
    "round(1 - 20/35,1)"
   ]
  },
  {
   "cell_type": "markdown",
   "metadata": {
    "id": "A2OgKmN3J7hG"
   },
   "source": [
    "APPLYING BOX COX TRANSFORMATION TO SKEWED DATA\n",
    "\n",
    "A Box Cox transformation is a way to transform non-normal dependent variables into a normal shape. Normality is an important assumption for many statistical techniques; if your data isn’t normal, applying a Box-Cox means that you are able to run a broader number of tests.\n",
    "\n",
    "The parameter lambda (0.15) minimizes the standard deviation of a standardized transformed variable."
   ]
  },
  {
   "cell_type": "code",
   "execution_count": 37,
   "metadata": {
    "id": "Gnsc3fgV8DEr"
   },
   "outputs": [],
   "source": [
    "for feature in big_skew:\n",
    "    df_concat[feature] = boxcox1p(df_concat[feature], 0.15)\n"
   ]
  },
  {
   "cell_type": "code",
   "execution_count": 38,
   "metadata": {
    "colab": {
     "base_uri": "https://localhost:8080/"
    },
    "id": "OJJj-eMTKS_d",
    "outputId": "a5463f5c-76e3-47e0-d426-a5202c8fa5b5"
   },
   "outputs": [
    {
     "name": "stdout",
     "output_type": "stream",
     "text": [
      "Skew: -0.15\n"
     ]
    }
   ],
   "source": [
    "print(\"Skew:\", round(df_concat['SalePrice'].skew(),2))"
   ]
  },
  {
   "cell_type": "markdown",
   "metadata": {
    "id": "G4aFZuTIKTl-"
   },
   "source": [
    "It's is in the range -0.5 to 0.5(skew val) -> data is fairly symmetrical"
   ]
  },
  {
   "cell_type": "code",
   "execution_count": 39,
   "metadata": {
    "colab": {
     "base_uri": "https://localhost:8080/",
     "height": 304
    },
    "id": "AG2JrLwAKKnm",
    "outputId": "569ee46f-5f33-42d2-acc7-30353a67ab74"
   },
   "outputs": [
    {
     "data": {
      "text/plain": [
       "<AxesSubplot:xlabel='SalePrice', ylabel='Density'>"
      ]
     },
     "execution_count": 39,
     "metadata": {},
     "output_type": "execute_result"
    },
    {
     "data": {
      "image/png": "[encoded data removed]",
      "text/plain": [
       "<Figure size 432x288 with 1 Axes>"
      ]
     },
     "metadata": {
      "needs_background": "light"
     },
     "output_type": "display_data"
    }
   ],
   "source": [
    "sns.distplot(df_concat['SalePrice'])"
   ]
  },
  {
   "cell_type": "markdown",
   "metadata": {
    "id": "Js0PFeCoKOqp"
   },
   "source": [
    "#GETTING DUMMIES FOR CATEGORICAL VALUES"
   ]
  },
  {
   "cell_type": "code",
   "execution_count": 40,
   "metadata": {
    "colab": {
     "base_uri": "https://localhost:8080/"
    },
    "id": "iYihKbcY8HB_",
    "outputId": "d9d48537-5a63-4dc8-9c97-7b59711bdf1e"
   },
   "outputs": [
    {
     "name": "stdout",
     "output_type": "stream",
     "text": [
      "(2917, 302)\n"
     ]
    }
   ],
   "source": [
    "df_concat = pd.get_dummies(df_concat)\n",
    "print(df_concat.shape)"
   ]
  },
  {
   "cell_type": "code",
   "execution_count": 41,
   "metadata": {
    "colab": {
     "base_uri": "https://localhost:8080/"
    },
    "id": "ThWoLDQB8NJ5",
    "outputId": "7230c310-326d-453f-a2b3-c32342844fe1"
   },
   "outputs": [
    {
     "data": {
      "text/plain": [
       "(2917, 302)"
      ]
     },
     "execution_count": 41,
     "metadata": {},
     "output_type": "execute_result"
    }
   ],
   "source": [
    "df_concat.shape"
   ]
  },
  {
   "cell_type": "code",
   "execution_count": 42,
   "metadata": {
    "colab": {
     "base_uri": "https://localhost:8080/"
    },
    "id": "VTegxG0_8Qdk",
    "outputId": "a61af915-6532-4e90-cba4-82a38ecffc0f"
   },
   "outputs": [
    {
     "data": {
      "text/plain": [
       "1458"
      ]
     },
     "execution_count": 42,
     "metadata": {},
     "output_type": "execute_result"
    }
   ],
   "source": [
    "len_train"
   ]
  },
  {
   "cell_type": "markdown",
   "metadata": {
    "id": "JY12jcsyKawG"
   },
   "source": [
    "#Splitting the DATA"
   ]
  },
  {
   "cell_type": "code",
   "execution_count": 43,
   "metadata": {
    "id": "3ypLvZ2v8X1q"
   },
   "outputs": [],
   "source": [
    "train_set_final = df_concat.iloc[:len_train,:]\n",
    "test_set_final = df_concat.iloc[len_train:,:]"
   ]
  },
  {
   "cell_type": "code",
   "execution_count": 44,
   "metadata": {
    "colab": {
     "base_uri": "https://localhost:8080/"
    },
    "id": "f6HaVuEZ8aaV",
    "outputId": "3ae59804-b807-4bd1-db1d-84cbcbaf24e4"
   },
   "outputs": [
    {
     "name": "stdout",
     "output_type": "stream",
     "text": [
      "(1458, 302)\n",
      "(1459, 302)\n"
     ]
    }
   ],
   "source": [
    "print(train_set_final.shape)\n",
    "print(test_set_final.shape)"
   ]
  },
  {
   "cell_type": "code",
   "execution_count": 45,
   "metadata": {
    "id": "MPBdg5cC8egV"
   },
   "outputs": [],
   "source": [
    "X = train_set_final.drop('SalePrice',axis=1)\n",
    "y = train_set_final[['SalePrice']]\n",
    "X_train, X_test, y_train, y_test = train_test_split(X, y, test_size=0.25, random_state=7)"
   ]
  },
  {
   "cell_type": "code",
   "execution_count": 46,
   "metadata": {
    "id": "2i45ZmJn8ggT"
   },
   "outputs": [],
   "source": [
    "X_submission = test_set_final.drop('SalePrice',axis=1)"
   ]
  },
  {
   "cell_type": "markdown",
   "metadata": {
    "id": "IGuzWbsYKeRR"
   },
   "source": [
    "#Modelling"
   ]
  },
  {
   "cell_type": "code",
   "execution_count": 47,
   "metadata": {
    "id": "aTCezyAmDAQj"
   },
   "outputs": [],
   "source": [
    "import lightgbm as lgb"
   ]
  },
  {
   "cell_type": "code",
   "execution_count": 67,
   "metadata": {
    "id": "JBX2AUBhD8-y"
   },
   "outputs": [],
   "source": [
    "modelsFinal = []\n",
    "\n",
    "modelsFinal.append(('ENet', make_pipeline(RobustScaler(), ElasticNet(alpha=0.0005, l1_ratio=.9, random_state=3))))\n",
    "modelsFinal.append(('Lasso', make_pipeline(RobustScaler(), Lasso(alpha =0.0005, random_state=1))))\n",
    "modelsFinal.append(('RF',RandomForestRegressor()))\n",
    "modelsFinal.append(('GB',GradientBoostingRegressor(n_estimators=3000, learning_rate=0.05,\n",
    "                                   max_depth=4, max_features='sqrt',\n",
    "                                   min_samples_leaf=15, min_samples_split=10, \n",
    "                                   loss='huber', random_state =5)))\n",
    "modelsFinal.append((\"KRR\",KernelRidge()))\n",
    "modelsFinal.append((\"Xgb\",xgb.XGBRegressor(colsample_bytree=0.4603, gamma=0.0468, \n",
    "                             learning_rate=0.05, max_depth=3, \n",
    "                             min_child_weight=1.7817, n_estimators=2200,\n",
    "                             reg_alpha=0.4640, reg_lambda=0.8571,\n",
    "                             subsample=0.5213, silent=1,\n",
    "                             random_state =7, nthread = -1)))\n",
    "modelsFinal.append((\"LGB\", lgb.LGBMRegressor(objective='regression',num_leaves=5,\n",
    "                              learning_rate=0.05, n_estimators=720,\n",
    "                              max_bin = 55, bagging_fraction = 0.8,\n",
    "                              bagging_freq = 5, feature_fraction = 0.2319,\n",
    "                              feature_fraction_seed=9, bagging_seed=9,\n",
    "                              min_data_in_leaf =6, min_sum_hessian_in_leaf = 11)))\n"
   ]
  },
  {
   "cell_type": "code",
   "execution_count": 68,
   "metadata": {
    "id": "A2lrbPVf8ko-"
   },
   "outputs": [],
   "source": [
    "def compute_models(X, y):\n",
    "    names = []\n",
    "    scores = []\n",
    "    frame = pd.DataFrame()\n",
    "    \n",
    "    for name, model in modelsFinal:\n",
    "        model.fit(X, y)\n",
    "        prediction = model.predict(X_submission)\n",
    "        frame[name] = prediction\n",
    "        scores.append(model.score(X_test,y_test))\n",
    "        names.append(name)\n",
    "    \n",
    "    bla = pd.DataFrame(scores, index = names, columns = [\"score\"])\n",
    "    print(bla)\n",
    "    \n",
    "    return frame"
   ]
  },
  {
   "cell_type": "code",
   "execution_count": 69,
   "metadata": {
    "colab": {
     "base_uri": "https://localhost:8080/"
    },
    "id": "wiEfAKip8nI6",
    "outputId": "7c697d53-c4b6-4eb1-c3dc-91ef9909097a"
   },
   "outputs": [
    {
     "name": "stdout",
     "output_type": "stream",
     "text": [
      "[05:50:26] WARNING: ../src/learner.cc:573: \n",
      "Parameters: { \"silent\" } might not be used.\n",
      "\n",
      "  This may not be accurate due to some parameters are only used in language bindings but\n",
      "  passed down to XGBoost core.  Or some parameters are not used but slip through this\n",
      "  verification. Please open an issue if you find above cases.\n",
      "\n",
      "\n",
      "[LightGBM] [Warning] feature_fraction is set=0.2319, colsample_bytree=1.0 will be ignored. Current value: feature_fraction=0.2319\n",
      "[LightGBM] [Warning] min_sum_hessian_in_leaf is set=11, min_child_weight=0.001 will be ignored. Current value: min_sum_hessian_in_leaf=11\n",
      "[LightGBM] [Warning] min_data_in_leaf is set=6, min_child_samples=20 will be ignored. Current value: min_data_in_leaf=6\n",
      "[LightGBM] [Warning] bagging_freq is set=5, subsample_freq=0 will be ignored. Current value: bagging_freq=5\n",
      "[LightGBM] [Warning] bagging_fraction is set=0.8, subsample=1.0 will be ignored. Current value: bagging_fraction=0.8\n",
      "          score\n",
      "ENet   0.914657\n",
      "Lasso  0.914745\n",
      "RF     0.876376\n",
      "GB     0.904887\n",
      "KRR    0.909212\n",
      "Xgb    0.909049\n",
      "LGB    0.904870\n"
     ]
    }
   ],
   "source": [
    "frame = compute_models(X_train, y_train)"
   ]
  },
  {
   "cell_type": "code",
   "execution_count": 70,
   "metadata": {
    "colab": {
     "base_uri": "https://localhost:8080/",
     "height": 204
    },
    "id": "mjHVGhj78pKq",
    "outputId": "61de716b-722e-4a7e-d06d-967dcb87f5d9"
   },
   "outputs": [
    {
     "data": {
      "text/html": [
       "<div>\n",
       "<style scoped>\n",
       "    .dataframe tbody tr th:only-of-type {\n",
       "        vertical-align: middle;\n",
       "    }\n",
       "\n",
       "    .dataframe tbody tr th {\n",
       "        vertical-align: top;\n",
       "    }\n",
       "\n",
       "    .dataframe thead th {\n",
       "        text-align: right;\n",
       "    }\n",
       "</style>\n",
       "<table border=\"1\" class=\"dataframe\">\n",
       "  <thead>\n",
       "    <tr style=\"text-align: right;\">\n",
       "      <th></th>\n",
       "      <th>ENet</th>\n",
       "      <th>Lasso</th>\n",
       "      <th>RF</th>\n",
       "      <th>GB</th>\n",
       "      <th>KRR</th>\n",
       "      <th>Xgb</th>\n",
       "      <th>LGB</th>\n",
       "    </tr>\n",
       "  </thead>\n",
       "  <tbody>\n",
       "    <tr>\n",
       "      <th>0</th>\n",
       "      <td>11.679398</td>\n",
       "      <td>11.680188</td>\n",
       "      <td>11.781838</td>\n",
       "      <td>11.729093</td>\n",
       "      <td>11.706397</td>\n",
       "      <td>11.756618</td>\n",
       "      <td>11.734518</td>\n",
       "    </tr>\n",
       "    <tr>\n",
       "      <th>1</th>\n",
       "      <td>11.949577</td>\n",
       "      <td>11.949082</td>\n",
       "      <td>11.938188</td>\n",
       "      <td>12.016829</td>\n",
       "      <td>11.984174</td>\n",
       "      <td>11.985009</td>\n",
       "      <td>11.955892</td>\n",
       "    </tr>\n",
       "    <tr>\n",
       "      <th>2</th>\n",
       "      <td>12.126536</td>\n",
       "      <td>12.126040</td>\n",
       "      <td>12.077373</td>\n",
       "      <td>12.200646</td>\n",
       "      <td>12.152283</td>\n",
       "      <td>12.156564</td>\n",
       "      <td>12.161571</td>\n",
       "    </tr>\n",
       "    <tr>\n",
       "      <th>3</th>\n",
       "      <td>12.199089</td>\n",
       "      <td>12.200187</td>\n",
       "      <td>12.148236</td>\n",
       "      <td>12.216991</td>\n",
       "      <td>12.206798</td>\n",
       "      <td>12.183107</td>\n",
       "      <td>12.212791</td>\n",
       "    </tr>\n",
       "    <tr>\n",
       "      <th>4</th>\n",
       "      <td>12.151316</td>\n",
       "      <td>12.149987</td>\n",
       "      <td>12.170822</td>\n",
       "      <td>12.185138</td>\n",
       "      <td>12.157918</td>\n",
       "      <td>12.173018</td>\n",
       "      <td>12.201044</td>\n",
       "    </tr>\n",
       "  </tbody>\n",
       "</table>\n",
       "</div>"
      ],
      "text/plain": [
       "        ENet      Lasso         RF         GB        KRR        Xgb        LGB\n",
       "0  11.679398  11.680188  11.781838  11.729093  11.706397  11.756618  11.734518\n",
       "1  11.949577  11.949082  11.938188  12.016829  11.984174  11.985009  11.955892\n",
       "2  12.126536  12.126040  12.077373  12.200646  12.152283  12.156564  12.161571\n",
       "3  12.199089  12.200187  12.148236  12.216991  12.206798  12.183107  12.212791\n",
       "4  12.151316  12.149987  12.170822  12.185138  12.157918  12.173018  12.201044"
      ]
     },
     "execution_count": 70,
     "metadata": {},
     "output_type": "execute_result"
    }
   ],
   "source": [
    "frame.head()"
   ]
  },
  {
   "cell_type": "code",
   "execution_count": 71,
   "metadata": {
    "id": "_BvbZHnW8xs3"
   },
   "outputs": [],
   "source": [
    "frame[\"mean\"] = (frame[\"ENet\"] + frame[\"Lasso\"] + frame[\"LGB\"] + frame[\"Xgb\"] + frame[\"GB\"]+ frame[\"KRR\"])/6"
   ]
  },
  {
   "cell_type": "code",
   "execution_count": 72,
   "metadata": {
    "colab": {
     "base_uri": "https://localhost:8080/",
     "height": 359
    },
    "id": "CFXjALl389wY",
    "outputId": "62b4357f-5004-4672-83e8-767142ac6163"
   },
   "outputs": [
    {
     "data": {
      "text/html": [
       "<div>\n",
       "<style scoped>\n",
       "    .dataframe tbody tr th:only-of-type {\n",
       "        vertical-align: middle;\n",
       "    }\n",
       "\n",
       "    .dataframe tbody tr th {\n",
       "        vertical-align: top;\n",
       "    }\n",
       "\n",
       "    .dataframe thead th {\n",
       "        text-align: right;\n",
       "    }\n",
       "</style>\n",
       "<table border=\"1\" class=\"dataframe\">\n",
       "  <thead>\n",
       "    <tr style=\"text-align: right;\">\n",
       "      <th></th>\n",
       "      <th>ENet</th>\n",
       "      <th>Lasso</th>\n",
       "      <th>RF</th>\n",
       "      <th>GB</th>\n",
       "      <th>KRR</th>\n",
       "      <th>Xgb</th>\n",
       "      <th>LGB</th>\n",
       "      <th>mean</th>\n",
       "    </tr>\n",
       "  </thead>\n",
       "  <tbody>\n",
       "    <tr>\n",
       "      <th>0</th>\n",
       "      <td>11.679398</td>\n",
       "      <td>11.680188</td>\n",
       "      <td>11.781838</td>\n",
       "      <td>11.729093</td>\n",
       "      <td>11.706397</td>\n",
       "      <td>11.756618</td>\n",
       "      <td>11.734518</td>\n",
       "      <td>11.714369</td>\n",
       "    </tr>\n",
       "    <tr>\n",
       "      <th>1</th>\n",
       "      <td>11.949577</td>\n",
       "      <td>11.949082</td>\n",
       "      <td>11.938188</td>\n",
       "      <td>12.016829</td>\n",
       "      <td>11.984174</td>\n",
       "      <td>11.985009</td>\n",
       "      <td>11.955892</td>\n",
       "      <td>11.973427</td>\n",
       "    </tr>\n",
       "    <tr>\n",
       "      <th>2</th>\n",
       "      <td>12.126536</td>\n",
       "      <td>12.126040</td>\n",
       "      <td>12.077373</td>\n",
       "      <td>12.200646</td>\n",
       "      <td>12.152283</td>\n",
       "      <td>12.156564</td>\n",
       "      <td>12.161571</td>\n",
       "      <td>12.153940</td>\n",
       "    </tr>\n",
       "    <tr>\n",
       "      <th>3</th>\n",
       "      <td>12.199089</td>\n",
       "      <td>12.200187</td>\n",
       "      <td>12.148236</td>\n",
       "      <td>12.216991</td>\n",
       "      <td>12.206798</td>\n",
       "      <td>12.183107</td>\n",
       "      <td>12.212791</td>\n",
       "      <td>12.203161</td>\n",
       "    </tr>\n",
       "    <tr>\n",
       "      <th>4</th>\n",
       "      <td>12.151316</td>\n",
       "      <td>12.149987</td>\n",
       "      <td>12.170822</td>\n",
       "      <td>12.185138</td>\n",
       "      <td>12.157918</td>\n",
       "      <td>12.173018</td>\n",
       "      <td>12.201044</td>\n",
       "      <td>12.169737</td>\n",
       "    </tr>\n",
       "    <tr>\n",
       "      <th>5</th>\n",
       "      <td>12.048102</td>\n",
       "      <td>12.047826</td>\n",
       "      <td>12.107480</td>\n",
       "      <td>12.059603</td>\n",
       "      <td>12.056701</td>\n",
       "      <td>12.052105</td>\n",
       "      <td>12.067539</td>\n",
       "      <td>12.055313</td>\n",
       "    </tr>\n",
       "    <tr>\n",
       "      <th>6</th>\n",
       "      <td>12.060155</td>\n",
       "      <td>12.063342</td>\n",
       "      <td>12.046027</td>\n",
       "      <td>12.117101</td>\n",
       "      <td>12.026952</td>\n",
       "      <td>12.058526</td>\n",
       "      <td>12.058850</td>\n",
       "      <td>12.064154</td>\n",
       "    </tr>\n",
       "    <tr>\n",
       "      <th>7</th>\n",
       "      <td>11.986440</td>\n",
       "      <td>11.986223</td>\n",
       "      <td>12.076841</td>\n",
       "      <td>12.021143</td>\n",
       "      <td>12.000260</td>\n",
       "      <td>11.981348</td>\n",
       "      <td>12.018781</td>\n",
       "      <td>11.999032</td>\n",
       "    </tr>\n",
       "    <tr>\n",
       "      <th>8</th>\n",
       "      <td>12.193795</td>\n",
       "      <td>12.189500</td>\n",
       "      <td>12.168105</td>\n",
       "      <td>12.131539</td>\n",
       "      <td>12.231399</td>\n",
       "      <td>12.160365</td>\n",
       "      <td>12.111423</td>\n",
       "      <td>12.169670</td>\n",
       "    </tr>\n",
       "    <tr>\n",
       "      <th>9</th>\n",
       "      <td>11.682071</td>\n",
       "      <td>11.681651</td>\n",
       "      <td>11.668333</td>\n",
       "      <td>11.753088</td>\n",
       "      <td>11.680426</td>\n",
       "      <td>11.724543</td>\n",
       "      <td>11.724099</td>\n",
       "      <td>11.707646</td>\n",
       "    </tr>\n",
       "  </tbody>\n",
       "</table>\n",
       "</div>"
      ],
      "text/plain": [
       "        ENet      Lasso         RF         GB        KRR        Xgb  \\\n",
       "0  11.679398  11.680188  11.781838  11.729093  11.706397  11.756618   \n",
       "1  11.949577  11.949082  11.938188  12.016829  11.984174  11.985009   \n",
       "2  12.126536  12.126040  12.077373  12.200646  12.152283  12.156564   \n",
       "3  12.199089  12.200187  12.148236  12.216991  12.206798  12.183107   \n",
       "4  12.151316  12.149987  12.170822  12.185138  12.157918  12.173018   \n",
       "5  12.048102  12.047826  12.107480  12.059603  12.056701  12.052105   \n",
       "6  12.060155  12.063342  12.046027  12.117101  12.026952  12.058526   \n",
       "7  11.986440  11.986223  12.076841  12.021143  12.000260  11.981348   \n",
       "8  12.193795  12.189500  12.168105  12.131539  12.231399  12.160365   \n",
       "9  11.682071  11.681651  11.668333  11.753088  11.680426  11.724543   \n",
       "\n",
       "         LGB       mean  \n",
       "0  11.734518  11.714369  \n",
       "1  11.955892  11.973427  \n",
       "2  12.161571  12.153940  \n",
       "3  12.212791  12.203161  \n",
       "4  12.201044  12.169737  \n",
       "5  12.067539  12.055313  \n",
       "6  12.058850  12.064154  \n",
       "7  12.018781  11.999032  \n",
       "8  12.111423  12.169670  \n",
       "9  11.724099  11.707646  "
      ]
     },
     "execution_count": 72,
     "metadata": {},
     "output_type": "execute_result"
    }
   ],
   "source": [
    "frame.head(10)"
   ]
  },
  {
   "cell_type": "code",
   "execution_count": 73,
   "metadata": {
    "id": "tYInCg3y9MXY"
   },
   "outputs": [],
   "source": [
    "Id = sub_df[\"Id\"].values\n",
    "predictions_id = list(zip(Id,frame[\"mean\"]))"
   ]
  },
  {
   "cell_type": "markdown",
   "metadata": {
    "id": "ejR4iYSzKhJB"
   },
   "source": [
    "#Submission"
   ]
  },
  {
   "cell_type": "code",
   "execution_count": 74,
   "metadata": {
    "id": "A4E1NH-G9QkB"
   },
   "outputs": [],
   "source": [
    "submission = pd.DataFrame(predictions_id , columns = [\"Id\", \"SalePrice\"])"
   ]
  },
  {
   "cell_type": "code",
   "execution_count": 75,
   "metadata": {
    "colab": {
     "base_uri": "https://localhost:8080/",
     "height": 204
    },
    "id": "ygsMcVAe9SNR",
    "outputId": "c1be9a9b-aea3-49bd-99e0-74f086d1b7b8"
   },
   "outputs": [
    {
     "data": {
      "text/html": [
       "<div>\n",
       "<style scoped>\n",
       "    .dataframe tbody tr th:only-of-type {\n",
       "        vertical-align: middle;\n",
       "    }\n",
       "\n",
       "    .dataframe tbody tr th {\n",
       "        vertical-align: top;\n",
       "    }\n",
       "\n",
       "    .dataframe thead th {\n",
       "        text-align: right;\n",
       "    }\n",
       "</style>\n",
       "<table border=\"1\" class=\"dataframe\">\n",
       "  <thead>\n",
       "    <tr style=\"text-align: right;\">\n",
       "      <th></th>\n",
       "      <th>Id</th>\n",
       "      <th>SalePrice</th>\n",
       "    </tr>\n",
       "  </thead>\n",
       "  <tbody>\n",
       "    <tr>\n",
       "      <th>0</th>\n",
       "      <td>1461</td>\n",
       "      <td>11.714369</td>\n",
       "    </tr>\n",
       "    <tr>\n",
       "      <th>1</th>\n",
       "      <td>1462</td>\n",
       "      <td>11.973427</td>\n",
       "    </tr>\n",
       "    <tr>\n",
       "      <th>2</th>\n",
       "      <td>1463</td>\n",
       "      <td>12.153940</td>\n",
       "    </tr>\n",
       "    <tr>\n",
       "      <th>3</th>\n",
       "      <td>1464</td>\n",
       "      <td>12.203161</td>\n",
       "    </tr>\n",
       "    <tr>\n",
       "      <th>4</th>\n",
       "      <td>1465</td>\n",
       "      <td>12.169737</td>\n",
       "    </tr>\n",
       "  </tbody>\n",
       "</table>\n",
       "</div>"
      ],
      "text/plain": [
       "     Id  SalePrice\n",
       "0  1461  11.714369\n",
       "1  1462  11.973427\n",
       "2  1463  12.153940\n",
       "3  1464  12.203161\n",
       "4  1465  12.169737"
      ]
     },
     "execution_count": 75,
     "metadata": {},
     "output_type": "execute_result"
    }
   ],
   "source": [
    "\n",
    "submission.head()"
   ]
  },
  {
   "cell_type": "code",
   "execution_count": 76,
   "metadata": {
    "id": "cxkTs7Mj9Uss"
   },
   "outputs": [],
   "source": [
    "submission[\"SalePrice\"] = np.expm1(submission[\"SalePrice\"])"
   ]
  },
  {
   "cell_type": "code",
   "execution_count": 77,
   "metadata": {
    "colab": {
     "base_uri": "https://localhost:8080/",
     "height": 204
    },
    "id": "tBoqnPvK9Xs1",
    "outputId": "5f794cbd-bfc7-4c31-c069-17fb2456d742"
   },
   "outputs": [
    {
     "data": {
      "text/html": [
       "<div>\n",
       "<style scoped>\n",
       "    .dataframe tbody tr th:only-of-type {\n",
       "        vertical-align: middle;\n",
       "    }\n",
       "\n",
       "    .dataframe tbody tr th {\n",
       "        vertical-align: top;\n",
       "    }\n",
       "\n",
       "    .dataframe thead th {\n",
       "        text-align: right;\n",
       "    }\n",
       "</style>\n",
       "<table border=\"1\" class=\"dataframe\">\n",
       "  <thead>\n",
       "    <tr style=\"text-align: right;\">\n",
       "      <th></th>\n",
       "      <th>Id</th>\n",
       "      <th>SalePrice</th>\n",
       "    </tr>\n",
       "  </thead>\n",
       "  <tbody>\n",
       "    <tr>\n",
       "      <th>0</th>\n",
       "      <td>1461</td>\n",
       "      <td>122315.707869</td>\n",
       "    </tr>\n",
       "    <tr>\n",
       "      <th>1</th>\n",
       "      <td>1462</td>\n",
       "      <td>158485.881591</td>\n",
       "    </tr>\n",
       "    <tr>\n",
       "      <th>2</th>\n",
       "      <td>1463</td>\n",
       "      <td>189839.543987</td>\n",
       "    </tr>\n",
       "    <tr>\n",
       "      <th>3</th>\n",
       "      <td>1464</td>\n",
       "      <td>199417.422719</td>\n",
       "    </tr>\n",
       "    <tr>\n",
       "      <th>4</th>\n",
       "      <td>1465</td>\n",
       "      <td>192862.253245</td>\n",
       "    </tr>\n",
       "  </tbody>\n",
       "</table>\n",
       "</div>"
      ],
      "text/plain": [
       "     Id      SalePrice\n",
       "0  1461  122315.707869\n",
       "1  1462  158485.881591\n",
       "2  1463  189839.543987\n",
       "3  1464  199417.422719\n",
       "4  1465  192862.253245"
      ]
     },
     "execution_count": 77,
     "metadata": {},
     "output_type": "execute_result"
    }
   ],
   "source": [
    "submission.head()"
   ]
  },
  {
   "cell_type": "code",
   "execution_count": 78,
   "metadata": {
    "colab": {
     "base_uri": "https://localhost:8080/"
    },
    "id": "NtjX1ecH9Zri",
    "outputId": "258c851d-b69f-47c3-f8d5-68300b6ff23d"
   },
   "outputs": [
    {
     "data": {
      "text/plain": [
       "1459"
      ]
     },
     "execution_count": 78,
     "metadata": {},
     "output_type": "execute_result"
    }
   ],
   "source": [
    "len(submission)"
   ]
  },
  {
   "cell_type": "code",
   "execution_count": 79,
   "metadata": {
    "id": "XB2K5kpK9eRZ"
   },
   "outputs": [],
   "source": [
    "submission.to_csv('submission_4.csv',sep=',', encoding='utf-8', index=False)"
   ]
  },
  {
   "cell_type": "code",
   "execution_count": 80,
   "metadata": {
    "colab": {
     "base_uri": "https://localhost:8080/"
    },
    "id": "sqMqViL59js5",
    "outputId": "0e59efef-18e2-4ef0-c5c8-1e7f803d8027"
   },
   "outputs": [
    {
     "data": {
      "text/plain": [
       "0"
      ]
     },
     "execution_count": 80,
     "metadata": {},
     "output_type": "execute_result"
    }
   ],
   "source": [
    "submission[\"SalePrice\"].isna().sum()"
   ]
  },
  {
   "attachments": {
    "image.png": {
     "image/png": "[encoded data removed]"
    }
   },
   "cell_type": "markdown",
   "metadata": {
    "id": "DsN01mgf9m9E"
   },
   "source": [
    "![image.png](attachment:image.png)"
   ]
  },
  {
   "cell_type": "code",
   "execution_count": null,
   "metadata": {},
   "outputs": [],
   "source": []
  }
 ],
 "metadata": {
  "colab": {
   "collapsed_sections": [],
   "name": "Advance Housing_kaggle",
   "provenance": []
  },
  "kernelspec": {
   "display_name": "Python 3",
   "language": "python",
   "name": "python3"
  },
  "language_info": {
   "codemirror_mode": {
    "name": "ipython",
    "version": 3
   },
   "file_extension": ".py",
   "mimetype": "text/x-python",
   "name": "python",
   "nbconvert_exporter": "python",
   "pygments_lexer": "ipython3",
   "version": "3.7.3"
  }
 },
 "nbformat": 4,
 "nbformat_minor": 1
}
